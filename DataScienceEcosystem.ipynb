{
 "cells": [
  {
   "cell_type": "markdown",
   "id": "36fe8d50-5a4f-488e-8c8b-d39fe55b90f6",
   "metadata": {},
   "source": [
    "# Data Science Tools and Ecosystem"
   ]
  },
  {
   "cell_type": "markdown",
   "id": "2f8eb033-8104-4917-830c-168c4cc24ea4",
   "metadata": {},
   "source": [
    "In this notebook, Data Science Tools and Ecosytem are summarized"
   ]
  },
  {
   "cell_type": "markdown",
   "id": "45d15e7d-e946-4d82-a194-038d2167d9e8",
   "metadata": {},
   "source": [
    "Some of the popular languages that Data Scientists use are:\n",
    "1. Python\n",
    "2. SQL\n",
    "3. R"
   ]
  },
  {
   "cell_type": "markdown",
   "id": "d7b600c6-3d44-4299-8e3e-39eb473e3ad6",
   "metadata": {
    "tags": []
   },
   "source": [
    "Some of the most common libraries used by Data Scientists are:\n",
    "1. Pandas\n",
    "2. NumPy\n",
    "3. ggplot2"
   ]
  },
  {
   "cell_type": "markdown",
   "id": "1c96532d-50c5-469b-bb91-e24560bcb0f9",
   "metadata": {},
   "source": [
    "| Data Science Tools |\n",
    "|--------------------|\n",
    "| RStudio |\n",
    "| ApacheSpark |\n",
    "| TensorFlow |"
   ]
  },
  {
   "cell_type": "markdown",
   "id": "ec503111-3d90-4922-a5ad-e970265e6846",
   "metadata": {},
   "source": [
    "### Below are a few examples of evaluating arithmetic expressions in Python."
   ]
  },
  {
   "cell_type": "markdown",
   "id": "ecd03d16-854d-4064-8b3e-b08c7d16428a",
   "metadata": {},
   "source": [
    "This is a simple arithmetic expression to multiply then add integers"
   ]
  },
  {
   "cell_type": "code",
   "execution_count": 1,
   "id": "602b8843-9f37-4de4-a437-d637358b6717",
   "metadata": {
    "tags": []
   },
   "outputs": [
    {
     "data": {
      "text/plain": [
       "17"
      ]
     },
     "execution_count": 1,
     "metadata": {},
     "output_type": "execute_result"
    }
   ],
   "source": [
    "(3*4)+5"
   ]
  },
  {
   "cell_type": "markdown",
   "id": "2b73eb55-34e4-42c4-b400-3038104a3850",
   "metadata": {},
   "source": [
    "This will convert 200 minutes to hours by dividing by 60:"
   ]
  },
  {
   "cell_type": "code",
   "execution_count": 2,
   "id": "90ee1791-3fc0-4bbb-945a-3d7252a5007c",
   "metadata": {
    "tags": []
   },
   "outputs": [
    {
     "data": {
      "text/plain": [
       "3.3333333333333335"
      ]
     },
     "execution_count": 2,
     "metadata": {},
     "output_type": "execute_result"
    }
   ],
   "source": [
    "200/60"
   ]
  },
  {
   "cell_type": "markdown",
   "id": "7c8bd8da-070f-4087-9f41-42e433c3431c",
   "metadata": {},
   "source": [
    "# __Objectives__\n",
    "- List popular languages for Data Science\n",
    "- List popular libraries used for Data Science\n",
    "- List popular tools used for Data Science\n",
    "- Use basic arithmetic expressions in JupyterNotebook\n"
   ]
  },
  {
   "cell_type": "markdown",
   "id": "44c80ac4-482d-4b2d-aa75-521dfc31d451",
   "metadata": {},
   "source": [
    "## Author\n",
    "Samuel Schwarzkopf"
   ]
  },
  {
   "cell_type": "code",
   "execution_count": null,
   "id": "68a22fcb-b148-40b1-bd22-6a944d85a4c1",
   "metadata": {},
   "outputs": [],
   "source": []
  }
 ],
 "metadata": {
  "kernelspec": {
   "display_name": "Python",
   "language": "python",
   "name": "conda-env-python-py"
  },
  "language_info": {
   "codemirror_mode": {
    "name": "ipython",
    "version": 3
   },
   "file_extension": ".py",
   "mimetype": "text/x-python",
   "name": "python",
   "nbconvert_exporter": "python",
   "pygments_lexer": "ipython3",
   "version": "3.7.12"
  }
 },
 "nbformat": 4,
 "nbformat_minor": 5
}
